{
 "cells": [
  {
   "metadata": {},
   "cell_type": "markdown",
   "source": "# Introduction",
   "id": "4a3cdfaca625b730"
  },
  {
   "metadata": {},
   "cell_type": "markdown",
   "source": "## Very simple case",
   "id": "fbef726ee6ef8bc9"
  },
  {
   "cell_type": "code",
   "id": "initial_id",
   "metadata": {
    "collapsed": true,
    "ExecuteTime": {
     "end_time": "2025-07-24T05:53:21.499645Z",
     "start_time": "2025-07-24T05:53:21.491436Z"
    }
   },
   "source": "from collections import defaultdict",
   "outputs": [],
   "execution_count": 1
  },
  {
   "metadata": {},
   "cell_type": "markdown",
   "source": "In this section of the code, we’re simply organizing and simulating the type of data you might find in your email campaign reports. Imagine you’re looking at a table where every row is a record of an individual email that was sent out to a subscriber. For each email, you’re tracking which subscriber received it (using a simple number for their ID), what topic the email was about (like “NEWS”, “SALE”, or “TIPS”), and whether the email was opened or clicked on by the recipient.",
   "id": "49ac10104ccb2788"
  },
  {
   "metadata": {
    "ExecuteTime": {
     "end_time": "2025-07-24T05:53:21.726093Z",
     "start_time": "2025-07-24T05:53:21.709228Z"
    }
   },
   "cell_type": "code",
   "source": [
    "# Organize the data\n",
    "emails = [\n",
    "    {\"subscriber_id\": 1, \"email_code\": \"NEWS\", \"opened\": 1, \"clicked\": 0},\n",
    "    {\"subscriber_id\": 1, \"email_code\": \"SALE\", \"opened\": 1, \"clicked\": 1},\n",
    "    {\"subscriber_id\": 1, \"email_code\": \"TIPS\", \"opened\": 0, \"clicked\": 0},\n",
    "\n",
    "    {\"subscriber_id\": 1, \"email_code\": \"NEWS\", \"opened\": 1, \"clicked\": 0},\n",
    "    {\"subscriber_id\": 1, \"email_code\": \"SALE\", \"opened\": 0, \"clicked\": 0},\n",
    "    {\"subscriber_id\": 1, \"email_code\": \"TIPS\", \"opened\": 1, \"clicked\": 1},\n",
    "\n",
    "    {\"subscriber_id\": 1, \"email_code\": \"NEWS\", \"opened\": 0, \"clicked\": 0},\n",
    "    {\"subscriber_id\": 1, \"email_code\": \"SALE\", \"opened\": 1, \"clicked\": 1},\n",
    "    {\"subscriber_id\": 1, \"email_code\": \"TIPS\", \"opened\": 1, \"clicked\": 0},\n",
    "]\n"
   ],
   "id": "d56904fa60bd734a",
   "outputs": [],
   "execution_count": 2
  },
  {
   "metadata": {},
   "cell_type": "markdown",
   "source": [
    "Each item in this list is a small dictionary—a way to neatly store the information about one email event. For example, the first entry says that subscriber number 1 received a “NEWS” email, opened it, but didn’t click any links in it. The next entry shows that the same subscriber received a “SALE” email, both opened it and clicked on something inside. This continues for several emails and topics, always tracking those key pieces of information: the recipient, the email topic, whether it was opened, and whether it was clicked.\n",
    "\n",
    "By laying out the data like this, we make it easy to count, group, and analyze performance by topic, by subscriber, or over time. This is exactly the type of structured dataset you’d use if you want to start understanding which of your email topics is driving the most engagement, or to perform more advanced analyses like moving averages or value estimation (as in the RL example earlier)."
   ],
   "id": "dfae74da7c2dcd5a"
  },
  {
   "metadata": {},
   "cell_type": "code",
   "source": [
    "# Collect rewards for each topic\n",
    "topic_rewards = defaultdict(list)\n",
    "\n",
    "for email in emails:\n",
    "    topic = email[\"email_code\"]\n",
    "    reward = email[\"clicked\"]  # Define reward as 'clicked'\n",
    "    topic_rewards[topic].append(reward)"
   ],
   "id": "bc576f7e6f996b39",
   "execution_count": null,
   "outputs": []
  },
  {
   "metadata": {},
   "cell_type": "markdown",
   "source": [
    "In this part of the code, we want to group together all the results for each email topic, so we can later figure out which topic gets the most clicks. To do that, we set up something called topic_rewards—think of it like a set of buckets, one for each topic (“NEWS”, “SALE”, “TIPS”). Whenever we see a result for a particular topic, we’ll toss that result into the right bucket.\n",
    "\n",
    "Now, we go through every email in our data, one by one. For each email, we check which topic it belongs to by looking at the “email_code”. We also decide what we’ll treat as our “reward”—in this case, it’s whether or not someone clicked the email (with 1 for a click and 0 for no click). We take this result and add it to the bucket for that topic. So after we’ve gone through all the emails, our topic_rewards will have three lists: one with all the “clicked” results for NEWS emails, one for SALE, and one for TIPS."
   ],
   "id": "33bd8b612531211b"
  },
  {
   "metadata": {
    "ExecuteTime": {
     "end_time": "2025-07-24T05:54:12.890020Z",
     "start_time": "2025-07-24T05:54:12.884329Z"
    }
   },
   "cell_type": "code",
   "source": "topic_rewards",
   "id": "9d328316636d07fd",
   "outputs": [
    {
     "data": {
      "text/plain": [
       "defaultdict(list, {'NEWS': [0, 0, 0], 'SALE': [1, 0, 1], 'TIPS': [0, 1, 0]})"
      ]
     },
     "execution_count": 4,
     "metadata": {},
     "output_type": "execute_result"
    }
   ],
   "execution_count": 4
  },
  {
   "metadata": {},
   "cell_type": "markdown",
   "source": [
    "This result is simply showing you the grouped performance data for each topic in your email campaign.\n",
    "\n",
    "Let’s break it down in plain language:\n",
    "\n",
    "- For the NEWS topic, you see a list: [0, 0, 0]. Each number in the list represents a single email that was sent on the \"NEWS\" topic. A 0 means the recipient did not click on the email. So here, all three \"NEWS\" emails went unopened or, more precisely, unclicked (since we are counting clicks).\n",
    "- For the SALE topic, you have [1, 0, 1]. Here, the first and last SALE emails were clicked (1 means a click), and the middle one wasn’t (0).\n",
    "- For the TIPS topic, [0, 1, 0] means there were three emails, and only the second one got a click.\n",
    "\n",
    "- This is the grouped data we created in the previous code step. Each topic has its own list, showing exactly which emails were clicked (1) or not clicked (0).\n"
   ],
   "id": "4bb2e0eb7a29f81f"
  },
  {
   "metadata": {},
   "cell_type": "code",
   "outputs": [
    {
     "name": "stdout",
     "output_type": "stream",
     "text": [
      "Estimated value for topic NEWS: 0.00\n",
      "Estimated value for topic SALE: 0.67\n",
      "Estimated value for topic TIPS: 0.33\n"
     ]
    }
   ],
   "execution_count": 3,
   "source": [
    "# Monte Carlo estimation (mean reward for each topic)\n",
    "for topic, rewards in topic_rewards.items():\n",
    "    value = sum(rewards) / len(rewards)\n",
    "    print(f\"Estimated value for topic {topic}: {value:.2f}\")\n"
   ],
   "id": "68eab30f617d2121"
  },
  {
   "metadata": {},
   "cell_type": "markdown",
   "source": [
    "This section is where all the earlier steps come together and where the real insights start to appear. The code is looping through each email topic—so, for example, “NEWS”, “SALE”, and “TIPS”—and looking at all the results (clicks or no clicks) we gathered for that topic for this particular subscriber.\n",
    "\n",
    "For each topic, it calculates the average—the total number of clicks divided by the number of emails sent on that topic. This average is known in statistics as the mean, but in reinforcement learning it’s called the Monte Carlo estimate of expected value. In simple terms, this is your best guess, based on the evidence so far, of how likely it is that this subscriber will click on an email about that topic.\n",
    "\n",
    "Let’s pause and appreciate the meaning and gravity of this calculation:\n",
    "With just a few lines of code, you’re moving beyond “gut feeling” or anecdotal evidence and into data-driven decision making. This isn’t just counting; it’s measuring the true, demonstrated interest of a subscriber in each topic, based on real, observed behavior. If, for this subscriber, “SALE” emails have an estimated value of 0.67, while “NEWS” and “TIPS” are at 0.0 and 0.33, you know with clarity where to focus your effort for maximum engagement."
   ],
   "id": "b5b1bd568f0e5aac"
  },
  {
   "metadata": {},
   "cell_type": "markdown",
   "source": [
    "### Remarks\n",
    "\n",
    "This use case is intentionally kept very simple—the main goal is just to demonstrate how even a straightforward algorithm can help us uncover patterns in a subscriber’s behavior. By applying this technique, we see that we don’t need advanced tools or complex modeling to start learning from our email campaign data; sometimes, basic math and grouping can already tell us a lot.\n",
    "\n",
    "It’s important to remember that before any analysis like this, we need to gather some historical data. Here, we’re looking at past email interactions for a single subscriber and using that data set as our source of truth. Our results are calculated by averaging these historical outcomes over time, meaning we get a summary statistic for each topic only after we’ve processed all the data.\n",
    "\n",
    "Because of this, there are some clear limitations. For instance, we don’t see how interests might change over time, and we can only get our “answers” after collecting a full batch of emails, rather than in real time. Despite these constraints, this approach still provides us with useful insights into what a subscriber is likely to respond to—allowing us to make more informed decisions in our future campaigns."
   ],
   "id": "28f8307e5b8fa55f"
  },
  {
   "metadata": {},
   "cell_type": "markdown",
   "source": "## Improved version with a time window",
   "id": "9256d70c8ba6b2b4"
  },
  {
   "metadata": {},
   "cell_type": "code",
   "source": [
    "import pandas as pd\n",
    "import numpy as np\n",
    "import matplotlib.pyplot as plt"
   ],
   "id": "acaaa0d67f3fdafa",
   "execution_count": null,
   "outputs": []
  },
  {
   "metadata": {
    "ExecuteTime": {
     "end_time": "2025-07-24T15:01:42.627960Z",
     "start_time": "2025-07-24T15:01:42.624707Z"
    }
   },
   "cell_type": "code",
   "source": [
    "# Simulate a dataset for 30 days, 3 topics, 1 subscriber\n",
    "np.random.seed(42)\n",
    "days = np.arange(1, 200)\n",
    "topics = [\"NEWS\", \"SALE\", \"TIPS\"]\n"
   ],
   "id": "2a4ecdf39f0401b4",
   "outputs": [],
   "execution_count": 53
  },
  {
   "metadata": {},
   "cell_type": "markdown",
   "source": [
    "This code simulates an email marketing experiment over a period of 200 days, where each day one email is sent to a single subscriber, randomly chosen from three possible topics: \"NEWS\", \"SALE\", or \"TIPS\". The purpose is to model how subscriber engagement (in this case, whether they click the email) might change over time in a realistic, dynamic way.\n",
    "\n",
    "Rather than assuming that engagement stays flat or simply rises or falls, the code introduces natural cyclical behavior using sine and cosine patterns — similar to how interest in certain types of content can rise and fall over time due to seasonality, campaign fatigue, or evolving preferences. For example:\n",
    "\n",
    "Interest in NEWS emails is modeled to follow a smooth cycle, rising and falling roughly every 30 days.\n",
    "SALE emails follow a different rhythm, with cycles about every 80 days — perhaps simulating larger promotional waves.\n",
    "TIPS content cycles faster, possibly reflecting short-term interest in helpful content like how-tos or guides.\n",
    "Each day, a topic is selected at random, and based on that day’s \"click probability\" for that topic, the code simulates whether the subscriber clicked the email or not (1 for clicked, 0 for not clicked). These probabilities are always kept within the valid range of 0–100% using a simple safety check.\n",
    "\n",
    "Finally, the simulated data is saved in a structured table (df), with each row representing one day's sendout: which topic was sent, when, and whether the subscriber clicked."
   ],
   "id": "4e0c04fe220a9f4b"
  },
  {
   "metadata": {
    "ExecuteTime": {
     "end_time": "2025-07-24T15:20:51.554196Z",
     "start_time": "2025-07-24T15:20:51.542191Z"
    }
   },
   "cell_type": "code",
   "source": [
    "# Set up the experiment\n",
    "np.random.seed(42)\n",
    "days = np.arange(1, 201)  # 200 days\n",
    "topics = [\"NEWS\", \"SALE\", \"TIPS\"]\n",
    "\n",
    "data = []\n",
    "for day in days:\n",
    "    topic = np.random.choice(topics)\n",
    "\n",
    "    # Oscillating click probability using sine/cosine (scaled to [0, 1])\n",
    "    prob = {\n",
    "        \"NEWS\": 0.5 + 0.4 * np.sin(day / 30),  # cycles every ~30 days\n",
    "        \"SALE\": 0.5 + 0.4 * np.cos(day / 80),  # cycles every ~40 days\n",
    "        \"TIPS\": 0.5 + 0.3 * np.sin(day / 40)   # cycles faster\n",
    "    }[topic]\n",
    "\n",
    "    clicked = np.random.binomial(1, np.clip(prob, 0, 1))\n",
    "    data.append({\n",
    "        \"send_time\": day,\n",
    "        \"email_code\": topic,\n",
    "        \"clicked\": clicked\n",
    "    })\n",
    "\n",
    "df = pd.DataFrame(data)\n"
   ],
   "id": "cf15572cceedc2ce",
   "outputs": [],
   "execution_count": 78
  },
  {
   "metadata": {
    "ExecuteTime": {
     "end_time": "2025-07-24T15:20:52.328054Z",
     "start_time": "2025-07-24T15:20:52.321233Z"
    }
   },
   "cell_type": "code",
   "source": "df",
   "id": "7943b151d381aa3c",
   "outputs": [
    {
     "data": {
      "text/plain": [
       "     send_time email_code  clicked\n",
       "0            1       TIPS        0\n",
       "1            2       TIPS        0\n",
       "2            3       NEWS        0\n",
       "3            4       SALE        1\n",
       "4            5       TIPS        1\n",
       "..         ...        ...      ...\n",
       "195        196       SALE        0\n",
       "196        197       NEWS        1\n",
       "197        198       NEWS        1\n",
       "198        199       NEWS        1\n",
       "199        200       SALE        1\n",
       "\n",
       "[200 rows x 3 columns]"
      ],
      "text/html": [
       "<div>\n",
       "<style scoped>\n",
       "    .dataframe tbody tr th:only-of-type {\n",
       "        vertical-align: middle;\n",
       "    }\n",
       "\n",
       "    .dataframe tbody tr th {\n",
       "        vertical-align: top;\n",
       "    }\n",
       "\n",
       "    .dataframe thead th {\n",
       "        text-align: right;\n",
       "    }\n",
       "</style>\n",
       "<table border=\"1\" class=\"dataframe\">\n",
       "  <thead>\n",
       "    <tr style=\"text-align: right;\">\n",
       "      <th></th>\n",
       "      <th>send_time</th>\n",
       "      <th>email_code</th>\n",
       "      <th>clicked</th>\n",
       "    </tr>\n",
       "  </thead>\n",
       "  <tbody>\n",
       "    <tr>\n",
       "      <th>0</th>\n",
       "      <td>1</td>\n",
       "      <td>TIPS</td>\n",
       "      <td>0</td>\n",
       "    </tr>\n",
       "    <tr>\n",
       "      <th>1</th>\n",
       "      <td>2</td>\n",
       "      <td>TIPS</td>\n",
       "      <td>0</td>\n",
       "    </tr>\n",
       "    <tr>\n",
       "      <th>2</th>\n",
       "      <td>3</td>\n",
       "      <td>NEWS</td>\n",
       "      <td>0</td>\n",
       "    </tr>\n",
       "    <tr>\n",
       "      <th>3</th>\n",
       "      <td>4</td>\n",
       "      <td>SALE</td>\n",
       "      <td>1</td>\n",
       "    </tr>\n",
       "    <tr>\n",
       "      <th>4</th>\n",
       "      <td>5</td>\n",
       "      <td>TIPS</td>\n",
       "      <td>1</td>\n",
       "    </tr>\n",
       "    <tr>\n",
       "      <th>...</th>\n",
       "      <td>...</td>\n",
       "      <td>...</td>\n",
       "      <td>...</td>\n",
       "    </tr>\n",
       "    <tr>\n",
       "      <th>195</th>\n",
       "      <td>196</td>\n",
       "      <td>SALE</td>\n",
       "      <td>0</td>\n",
       "    </tr>\n",
       "    <tr>\n",
       "      <th>196</th>\n",
       "      <td>197</td>\n",
       "      <td>NEWS</td>\n",
       "      <td>1</td>\n",
       "    </tr>\n",
       "    <tr>\n",
       "      <th>197</th>\n",
       "      <td>198</td>\n",
       "      <td>NEWS</td>\n",
       "      <td>1</td>\n",
       "    </tr>\n",
       "    <tr>\n",
       "      <th>198</th>\n",
       "      <td>199</td>\n",
       "      <td>NEWS</td>\n",
       "      <td>1</td>\n",
       "    </tr>\n",
       "    <tr>\n",
       "      <th>199</th>\n",
       "      <td>200</td>\n",
       "      <td>SALE</td>\n",
       "      <td>1</td>\n",
       "    </tr>\n",
       "  </tbody>\n",
       "</table>\n",
       "<p>200 rows × 3 columns</p>\n",
       "</div>"
      ]
     },
     "execution_count": 79,
     "metadata": {},
     "output_type": "execute_result"
    }
   ],
   "execution_count": 79
  },
  {
   "metadata": {},
   "cell_type": "markdown",
   "source": "window_size = 50 sets the size of a sliding time window — in this case, 50 days. This means we’ll be analyzing email engagement (e.g. click rates) over a rolling 50-day period.",
   "id": "eefd33793e8119ea"
  },
  {
   "metadata": {
    "ExecuteTime": {
     "end_time": "2025-07-24T15:21:42.874945Z",
     "start_time": "2025-07-24T15:21:42.872514Z"
    }
   },
   "cell_type": "code",
   "source": [
    "window_size = 50\n",
    "rolling_results = {}"
   ],
   "id": "f19d0963b9d3ab1e",
   "outputs": [],
   "execution_count": 88
  },
  {
   "metadata": {},
   "cell_type": "markdown",
   "source": [
    "This block of code calculates a rolling view of email engagement, showing how each topic (\"NEWS\", \"SALE\", or \"TIPS\") performs over time within a 50-day sliding window. In other words, it answers the question: “In the last 50 days, how well has each topic been performing?”\n",
    "\n",
    "It works by sliding a window forward one day at a time. For each day (starting from day 50), it looks back at the previous 50 days of data. Within that window, it filters the dataset to include only those 50 days and then calculates the average click rate for each topic during that period.\n",
    "\n",
    "These click rates — one for each topic — are then stored in a dictionary along with the current day (end_day). This gives a snapshot of topic performance for that specific 50-day period. All of these daily snapshots are collected in a list called rolling_topic_stats.\n",
    "\n",
    "Finally, the code converts this list into a structured table called rolling_df, where each row represents a day, and each column shows the average click rate for a particular topic within the rolling window ending on that day. Any missing values (e.g. if a topic didn’t appear in a window) are filled with zero."
   ],
   "id": "ee0976ed3c8c9812"
  },
  {
   "metadata": {
    "ExecuteTime": {
     "end_time": "2025-07-24T15:21:43.420295Z",
     "start_time": "2025-07-24T15:21:43.370465Z"
    }
   },
   "cell_type": "code",
   "source": [
    "# Create a DataFrame to store rolling results\n",
    "rolling_topic_stats = []\n",
    "\n",
    "# Slide the window day by day\n",
    "for end_day in range(window_size, df['send_time'].max() + 1):\n",
    "    window_df = df[(df['send_time'] > end_day - window_size) & (df['send_time'] <= end_day)]\n",
    "\n",
    "    # Group by topic within the window\n",
    "    stats = window_df.groupby('email_code')['clicked'].mean().to_dict()\n",
    "    stats['send_time'] = end_day\n",
    "    rolling_topic_stats.append(stats)\n",
    "\n",
    "rolling_df = pd.DataFrame(rolling_topic_stats).fillna(0)\n"
   ],
   "id": "c2bf48f992e6a2cf",
   "outputs": [],
   "execution_count": 89
  },
  {
   "metadata": {
    "ExecuteTime": {
     "end_time": "2025-07-24T15:21:43.924157Z",
     "start_time": "2025-07-24T15:21:43.918591Z"
    }
   },
   "cell_type": "code",
   "source": "rolling_df",
   "id": "dda24d9e1e1facf6",
   "outputs": [
    {
     "data": {
      "text/plain": [
       "         NEWS      SALE      TIPS  send_time\n",
       "0    0.625000  1.000000  0.444444         50\n",
       "1    0.647059  1.000000  0.470588         51\n",
       "2    0.647059  0.941176  0.500000         52\n",
       "3    0.705882  0.941176  0.500000         53\n",
       "4    0.705882  0.937500  0.529412         54\n",
       "..        ...       ...       ...        ...\n",
       "146  0.250000  0.315789  0.133333        196\n",
       "147  0.312500  0.315789  0.133333        197\n",
       "148  0.375000  0.315789  0.133333        198\n",
       "149  0.411765  0.315789  0.142857        199\n",
       "150  0.411765  0.350000  0.153846        200\n",
       "\n",
       "[151 rows x 4 columns]"
      ],
      "text/html": [
       "<div>\n",
       "<style scoped>\n",
       "    .dataframe tbody tr th:only-of-type {\n",
       "        vertical-align: middle;\n",
       "    }\n",
       "\n",
       "    .dataframe tbody tr th {\n",
       "        vertical-align: top;\n",
       "    }\n",
       "\n",
       "    .dataframe thead th {\n",
       "        text-align: right;\n",
       "    }\n",
       "</style>\n",
       "<table border=\"1\" class=\"dataframe\">\n",
       "  <thead>\n",
       "    <tr style=\"text-align: right;\">\n",
       "      <th></th>\n",
       "      <th>NEWS</th>\n",
       "      <th>SALE</th>\n",
       "      <th>TIPS</th>\n",
       "      <th>send_time</th>\n",
       "    </tr>\n",
       "  </thead>\n",
       "  <tbody>\n",
       "    <tr>\n",
       "      <th>0</th>\n",
       "      <td>0.625000</td>\n",
       "      <td>1.000000</td>\n",
       "      <td>0.444444</td>\n",
       "      <td>50</td>\n",
       "    </tr>\n",
       "    <tr>\n",
       "      <th>1</th>\n",
       "      <td>0.647059</td>\n",
       "      <td>1.000000</td>\n",
       "      <td>0.470588</td>\n",
       "      <td>51</td>\n",
       "    </tr>\n",
       "    <tr>\n",
       "      <th>2</th>\n",
       "      <td>0.647059</td>\n",
       "      <td>0.941176</td>\n",
       "      <td>0.500000</td>\n",
       "      <td>52</td>\n",
       "    </tr>\n",
       "    <tr>\n",
       "      <th>3</th>\n",
       "      <td>0.705882</td>\n",
       "      <td>0.941176</td>\n",
       "      <td>0.500000</td>\n",
       "      <td>53</td>\n",
       "    </tr>\n",
       "    <tr>\n",
       "      <th>4</th>\n",
       "      <td>0.705882</td>\n",
       "      <td>0.937500</td>\n",
       "      <td>0.529412</td>\n",
       "      <td>54</td>\n",
       "    </tr>\n",
       "    <tr>\n",
       "      <th>...</th>\n",
       "      <td>...</td>\n",
       "      <td>...</td>\n",
       "      <td>...</td>\n",
       "      <td>...</td>\n",
       "    </tr>\n",
       "    <tr>\n",
       "      <th>146</th>\n",
       "      <td>0.250000</td>\n",
       "      <td>0.315789</td>\n",
       "      <td>0.133333</td>\n",
       "      <td>196</td>\n",
       "    </tr>\n",
       "    <tr>\n",
       "      <th>147</th>\n",
       "      <td>0.312500</td>\n",
       "      <td>0.315789</td>\n",
       "      <td>0.133333</td>\n",
       "      <td>197</td>\n",
       "    </tr>\n",
       "    <tr>\n",
       "      <th>148</th>\n",
       "      <td>0.375000</td>\n",
       "      <td>0.315789</td>\n",
       "      <td>0.133333</td>\n",
       "      <td>198</td>\n",
       "    </tr>\n",
       "    <tr>\n",
       "      <th>149</th>\n",
       "      <td>0.411765</td>\n",
       "      <td>0.315789</td>\n",
       "      <td>0.142857</td>\n",
       "      <td>199</td>\n",
       "    </tr>\n",
       "    <tr>\n",
       "      <th>150</th>\n",
       "      <td>0.411765</td>\n",
       "      <td>0.350000</td>\n",
       "      <td>0.153846</td>\n",
       "      <td>200</td>\n",
       "    </tr>\n",
       "  </tbody>\n",
       "</table>\n",
       "<p>151 rows × 4 columns</p>\n",
       "</div>"
      ]
     },
     "execution_count": 90,
     "metadata": {},
     "output_type": "execute_result"
    }
   ],
   "execution_count": 90
  },
  {
   "metadata": {
    "ExecuteTime": {
     "end_time": "2025-07-24T15:21:44.856866Z",
     "start_time": "2025-07-24T15:21:44.773593Z"
    }
   },
   "cell_type": "code",
   "source": [
    "import matplotlib.pyplot as plt\n",
    "\n",
    "plt.figure(figsize=(12, 6))\n",
    "\n",
    "# Plot each topic as a line\n",
    "for topic in topics:\n",
    "    plt.plot(rolling_df['send_time'], rolling_df.get(topic, 0), label=topic)\n",
    "\n",
    "plt.title(\"Rolling Average Click Rate per Topic (Shared Window)\")\n",
    "plt.xlabel(\"Day\")\n",
    "plt.ylabel(\"Rolling Mean Click Rate\")\n",
    "plt.legend()\n",
    "plt.grid(True)\n",
    "plt.tight_layout()\n",
    "plt.show()\n"
   ],
   "id": "382ab87099e192c2",
   "outputs": [
    {
     "data": {
      "text/plain": [
       "<Figure size 1200x600 with 1 Axes>"
      ],
      "image/png": "[encoded data removed]"
     },
     "metadata": {},
     "output_type": "display_data"
    }
   ],
   "execution_count": 91
  },
  {
   "metadata": {},
   "cell_type": "markdown",
   "source": [
    "The graph provides a clear view of how subscriber engagement with different types of email content evolves over time. It shows rolling average click rates for three email topics — “NEWS,” “SALE,” and “TIPS” — calculated using a moving time window. Instead of looking at raw, day-to-day performance (which can be noisy or inconsistent), this rolling approach smooths out the fluctuations and highlights meaningful trends.\n",
    "\n",
    "Each line represents one topic and how it performs within the same time periods. By comparing them, we can see how interest in each type of content rises and falls. Some topics may gain momentum over time, while others lose their effectiveness. These shifts might reflect changes in subscriber interest, the timing or frequency of content, or even content fatigue when the same type of message appears too often.\n",
    "\n",
    "What’s especially valuable here is that all topics are measured in parallel within the same window — creating a fair basis for comparison. This allows marketers to spot when one type of content starts outperforming another, when engagement is peaking or falling, and when it might be time to adjust strategy. It offers a dynamic, time-aware view of what’s resonating with the audience — not just once, but continuously throughout the campaign."
   ],
   "id": "410511bfe1ad5383"
  },
  {
   "metadata": {},
   "cell_type": "markdown",
   "source": "This code bellow identifies the most engaging topic on each day of the campaign, based on the rolling average click rates calculated earlier. For every day in the rolling dataset, it compares the performance of all three topics — “NEWS,” “SALE,” and “TIPS” — and selects the one with the highest engagement.",
   "id": "38f7559235a344d7"
  },
  {
   "metadata": {},
   "cell_type": "code",
   "source": [
    "# Get the topic with the highest rolling click rate for each day\n",
    "rolling_df['top_topic'] = rolling_df[topics].idxmax(axis=1)"
   ],
   "id": "5a5e96f585722277",
   "execution_count": null,
   "outputs": []
  },
  {
   "metadata": {},
   "cell_type": "markdown",
   "source": [
    "This line scans across the rolling click rates for each topic (within the same time window) and assigns the topic with the highest score to a new column called 'top_topic'. This shows, for each day, which topic was the most appealing to the subscriber — the one they were most likely to click.\n",
    "\n",
    "The result is a timeline that tracks which topic dominated user attention over time. This kind of insight is important for understanding content preferences, recognizing shifts in interest, and making informed decisions about which topics to prioritize in future campaigns."
   ],
   "id": "35b0b2b47e2008ff"
  },
  {
   "metadata": {
    "ExecuteTime": {
     "end_time": "2025-07-24T15:42:32.930158Z",
     "start_time": "2025-07-24T15:42:32.927035Z"
    }
   },
   "cell_type": "code",
   "source": [
    "# Preview the result\n",
    "print(rolling_df[['send_time', 'top_topic']].head(50))\n"
   ],
   "id": "1f682cc60f9b6d83",
   "outputs": [
    {
     "name": "stdout",
     "output_type": "stream",
     "text": [
      "    send_time top_topic\n",
      "0          50      SALE\n",
      "1          51      SALE\n",
      "2          52      SALE\n",
      "3          53      SALE\n",
      "4          54      SALE\n",
      "5          55      SALE\n",
      "6          56      SALE\n",
      "7          57      SALE\n",
      "8          58      SALE\n",
      "9          59      SALE\n",
      "10         60      SALE\n",
      "11         61      SALE\n",
      "12         62      SALE\n",
      "13         63      SALE\n",
      "14         64      SALE\n",
      "15         65      SALE\n",
      "16         66      SALE\n",
      "17         67      SALE\n",
      "18         68      SALE\n",
      "19         69      SALE\n",
      "20         70      SALE\n",
      "21         71      SALE\n",
      "22         72      SALE\n",
      "23         73      SALE\n",
      "24         74      SALE\n",
      "25         75      SALE\n",
      "26         76      SALE\n",
      "27         77      SALE\n",
      "28         78      SALE\n",
      "29         79      SALE\n",
      "30         80      SALE\n",
      "31         81      TIPS\n",
      "32         82      TIPS\n",
      "33         83      TIPS\n",
      "34         84      NEWS\n",
      "35         85      TIPS\n",
      "36         86      TIPS\n",
      "37         87      TIPS\n",
      "38         88      TIPS\n",
      "39         89      TIPS\n",
      "40         90      TIPS\n",
      "41         91      TIPS\n",
      "42         92      TIPS\n",
      "43         93      TIPS\n",
      "44         94      TIPS\n",
      "45         95      TIPS\n",
      "46         96      TIPS\n",
      "47         97      TIPS\n",
      "48         98      TIPS\n",
      "49         99      TIPS\n"
     ]
    }
   ],
   "execution_count": 96
  },
  {
   "metadata": {
    "ExecuteTime": {
     "end_time": "2025-07-24T15:37:30.960037Z",
     "start_time": "2025-07-24T15:37:30.886273Z"
    }
   },
   "cell_type": "code",
   "source": [
    "import matplotlib.pyplot as plt\n",
    "\n",
    "plt.figure(figsize=(12, 3))\n",
    "\n",
    "# Assign each topic a color\n",
    "topic_colors = {\"NEWS\": \"blue\", \"SALE\": \"orange\", \"TIPS\": \"green\"}\n",
    "\n",
    "# Plot colored points showing the dominant topic each day\n",
    "for topic in topics:\n",
    "    mask = rolling_df['top_topic'] == topic\n",
    "    plt.scatter(rolling_df.loc[mask, 'send_time'],\n",
    "                [1] * mask.sum(),  # all y values = 1\n",
    "                color=topic_colors[topic],\n",
    "                label=topic,\n",
    "                s=10)  # point size\n",
    "\n",
    "plt.title(\"Most Engaging Topic Over Time (Rolling Window)\")\n",
    "plt.yticks([])  # remove y-axis since we only show categorical info\n",
    "plt.xlabel(\"Day\")\n",
    "plt.legend(title=\"Top Topic\")\n",
    "plt.tight_layout()\n",
    "plt.show()\n"
   ],
   "id": "2464e74e5f8f1062",
   "outputs": [
    {
     "data": {
      "text/plain": [
       "<Figure size 1200x300 with 1 Axes>"
      ],
      "image/png": "[encoded data removed]"
     },
     "metadata": {},
     "output_type": "display_data"
    }
   ],
   "execution_count": 94
  },
  {
   "metadata": {},
   "cell_type": "code",
   "outputs": [],
   "execution_count": null,
   "source": "",
   "id": "d918148de9f71461"
  },
  {
   "metadata": {},
   "cell_type": "markdown",
   "source": "So if we would like to use mathemtical language to write this all down we can do it by",
   "id": "d933d5c4e7430e1b"
  },
  {
   "metadata": {},
   "cell_type": "markdown",
   "source": [
    "Let’s define:\n",
    "\n",
    "* $T = \\{\\text{NEWS}, \\text{SALE}, \\text{TIPS}\\}$ — the set of all topics\n",
    "* $C_t(d)$ — the click value (0 or 1) for topic $t$ on day $d$\n",
    "* $w$ — the size of the sliding window (e.g., 50 days)\n",
    "* $\\bar{C}_t(d)$ — the rolling average click rate for topic $t$ ending on day $d$\n",
    "* $\\text{Top}(d)$ — the topic with the highest rolling average on day $d$\n",
    "\n",
    "\n",
    "For each topic $t \\in T$, the rolling average at day $d$ is:\n",
    "\n",
    "$$\n",
    "\\bar{C}_t(d) = \\frac{1}{w} \\sum_{i = d - w + 1}^{d} C_t(i)\n",
    "$$\n",
    "\n",
    "This means:\n",
    "Take the average of the click values for topic $t$ from day $d-w+1$ to day $d$.\n",
    "\n",
    "$$\n",
    "\\text{Top}(d) = \\arg\\max_{t \\in T} \\bar{C}_t(d)\n",
    "$$\n",
    "\n",
    "This selects the topic $t$ with the **highest average click rate** in the window ending on day $d$.\n"
   ],
   "id": "54d985bb98eb904e"
  },
  {
   "metadata": {},
   "cell_type": "code",
   "outputs": [],
   "execution_count": null,
   "source": "",
   "id": "4a85a48756d4d488"
  }
 ],
 "metadata": {
  "kernelspec": {
   "display_name": "Python 3",
   "language": "python",
   "name": "python3"
  },
  "language_info": {
   "codemirror_mode": {
    "name": "ipython",
    "version": 2
   },
   "file_extension": ".py",
   "mimetype": "text/x-python",
   "name": "python",
   "nbconvert_exporter": "python",
   "pygments_lexer": "ipython2",
   "version": "2.7.6"
  }
 },
 "nbformat": 4,
 "nbformat_minor": 5
}
